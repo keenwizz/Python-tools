{
 "cells": [
  {
   "cell_type": "code",
   "execution_count": 2,
   "id": "a25df7bb",
   "metadata": {},
   "outputs": [
    {
     "data": {
      "text/plain": [
       "12"
      ]
     },
     "execution_count": 2,
     "metadata": {},
     "output_type": "execute_result"
    }
   ],
   "source": [
    "# write a program to find the length of the string'Hello World !'using a built in function\n",
    "\n",
    "Var1 = \"Hello World!\"\n",
    "len(Var1)"
   ]
  },
  {
   "cell_type": "code",
   "execution_count": 4,
   "id": "4592072f",
   "metadata": {},
   "outputs": [
    {
     "data": {
      "text/plain": [
       "float"
      ]
     },
     "execution_count": 4,
     "metadata": {},
     "output_type": "execute_result"
    }
   ],
   "source": [
    "# use the type function to check the data type of the variable my_var = 3.14\n",
    "\n",
    "my_var =3.14\n",
    "type(my_var)"
   ]
  },
  {
   "cell_type": "code",
   "execution_count": 6,
   "id": "ec08dd00",
   "metadata": {},
   "outputs": [
    {
     "data": {
      "text/plain": [
       "30"
      ]
     },
     "execution_count": 6,
     "metadata": {},
     "output_type": "execute_result"
    }
   ],
   "source": [
    "# calculate the sum of all numbers in the list [5, 10, 15] using a built in function\n",
    "\n",
    "number = [5, 10, 15]\n",
    "sum(number)\n"
   ]
  },
  {
   "cell_type": "code",
   "execution_count": 8,
   "id": "88175755",
   "metadata": {},
   "outputs": [
    {
     "data": {
      "text/plain": [
       "3"
      ]
     },
     "execution_count": 8,
     "metadata": {},
     "output_type": "execute_result"
    }
   ],
   "source": [
    "# Use the min function to find the smallest number [8, 3, 12, 7]\n",
    "\n",
    "my_number = [8, 3, 12,7]\n",
    "min(my_number)"
   ]
  },
  {
   "cell_type": "code",
   "execution_count": 1,
   "id": "8aacd56a",
   "metadata": {},
   "outputs": [
    {
     "name": "stdout",
     "output_type": "stream",
     "text": [
      "Enter your name wisdom\n",
      "WISDOM\n"
     ]
    }
   ],
   "source": [
    "# write a program that takes user input and prints it in uppercase using a built-in function\n",
    "\n",
    "name = input(\"Enter your name \")\n",
    "name = name.upper()\n",
    "\n",
    "print(name)\n",
    "\n",
    "\n",
    "\n"
   ]
  },
  {
   "cell_type": "code",
   "execution_count": 10,
   "id": "b678f2f9",
   "metadata": {},
   "outputs": [
    {
     "name": "stdout",
     "output_type": "stream",
     "text": [
      "[3, 5, 8, 10]\n"
     ]
    }
   ],
   "source": [
    "# sort the list [10, 5, 8, 3] in ascending & descending order using builtin function\n",
    "\n",
    "lst = [10, 5, 8, 3]\n",
    "lst.sort()\n",
    "print(lst)\n"
   ]
  },
  {
   "cell_type": "code",
   "execution_count": 2,
   "id": "70552477",
   "metadata": {},
   "outputs": [
    {
     "name": "stdout",
     "output_type": "stream",
     "text": [
      "[3, 5, 8, 10]\n"
     ]
    }
   ],
   "source": [
    "# sort the list [10, 5, 8, 3] in ascending & descending order using builtin function\n",
    "\n",
    "lst = [10, 5, 8, 3]\n",
    "lst.sort()\n",
    "print(lst)\n",
    "\n"
   ]
  },
  {
   "cell_type": "code",
   "execution_count": 3,
   "id": "3c122ad3",
   "metadata": {},
   "outputs": [
    {
     "name": "stdout",
     "output_type": "stream",
     "text": [
      "[10, 8, 5, 3]\n"
     ]
    }
   ],
   "source": [
    "# # sort the list [10, 5, 8, 3] in ascending & descending order using builtiwr\n",
    "lst = [10, 5, 8, 3]\n",
    "lst.sort(reverse=True)\n",
    "print(lst)"
   ]
  },
  {
   "cell_type": "code",
   "execution_count": 5,
   "id": "b89d9d3d",
   "metadata": {},
   "outputs": [
    {
     "name": "stdout",
     "output_type": "stream",
     "text": [
      "[1, 3, 5, 7, 9]\n"
     ]
    }
   ],
   "source": [
    "# write a program that accepts a list of numbers and filter out the odd number using a filter() function\n",
    "\n",
    "numbers = [1, 2, 3, 4, 5, 6, 7, 8, 9, 10]\n",
    "odds = filter(lambda x:x %2!=0, numbers)\n",
    "\n",
    "print(list(odds))"
   ]
  },
  {
   "cell_type": "code",
   "execution_count": 6,
   "id": "c0bdd5fb",
   "metadata": {},
   "outputs": [
    {
     "name": "stdout",
     "output_type": "stream",
     "text": [
      "[('John', 80), ('Jane', 90)]\n"
     ]
    }
   ],
   "source": [
    "# use the zip() function to merge two lists ['John', 'jane'] and [80,90]\n",
    "\n",
    "names = ['John', 'Jane']\n",
    "scores = [80, 90]\n",
    "combined = zip(names, scores)\n",
    "print(list(combined))"
   ]
  },
  {
   "cell_type": "code",
   "execution_count": 8,
   "id": "5c74ad17",
   "metadata": {},
   "outputs": [
    {
     "name": "stdout",
     "output_type": "stream",
     "text": [
      "3.14\n"
     ]
    }
   ],
   "source": [
    "# write a program that rounds a floating point number to 2 decimal places using a buit in function\n",
    "\n",
    "print(round(3.14159,2))"
   ]
  },
  {
   "cell_type": "code",
   "execution_count": 9,
   "id": "8b38f94a",
   "metadata": {},
   "outputs": [
    {
     "name": "stdout",
     "output_type": "stream",
     "text": [
      "[1, 4, 9, 16, 25]\n"
     ]
    }
   ],
   "source": [
    "# write a program that maps a function to square square each number in the list\n",
    "\n",
    "num = [1, 2, 3, 4, 5]\n",
    "squares = map(lambda x:x**2, num)\n",
    "print(list(squares))"
   ]
  },
  {
   "cell_type": "markdown",
   "id": "7e7f1d3f",
   "metadata": {},
   "source": [
    "## Adavance level"
   ]
  },
  {
   "cell_type": "code",
   "execution_count": 1,
   "id": "c44db467",
   "metadata": {},
   "outputs": [
    {
     "name": "stdout",
     "output_type": "stream",
     "text": [
      "evaluate an expression 100+40\n",
      "140\n"
     ]
    }
   ],
   "source": [
    "# write a program to evaluate a mathemathical expresssion entered by the user using eval()\n",
    "\n",
    "math_expression = input('evaluate an expression ')\n",
    "\n",
    "print(eval(math_expression))"
   ]
  },
  {
   "cell_type": "code",
   "execution_count": 5,
   "id": "9f4b7d55",
   "metadata": {},
   "outputs": [
    {
     "name": "stdout",
     "output_type": "stream",
     "text": [
      "{'John': 45, 'Jane': 66, 'Wisdom': 28}\n"
     ]
    }
   ],
   "source": [
    "# create a program that combines two lists (eg names and marks) into dictionary using zip() function\n",
    "\n",
    "name_s = ['John', 'Jane', 'Wisdom']\n",
    "marks = [45, 66, 28]\n",
    "combined = zip(name_s, marks)\n",
    "print(dict(combined))"
   ]
  },
  {
   "cell_type": "code",
   "execution_count": 3,
   "id": "874d306a",
   "metadata": {},
   "outputs": [
    {
     "name": "stdout",
     "output_type": "stream",
     "text": [
      "['Python', 'Java', 'C++']\n"
     ]
    }
   ],
   "source": [
    "# use the map() function to apply that capitalizes each string in [python,java, c++]\n",
    "\n",
    "string = [\"python\", \"java\", \"c++\"]\n",
    "capitalized_string = list(map(str.capitalize, string))\n",
    "\n",
    "print(capitalized_string)\n"
   ]
  },
  {
   "cell_type": "code",
   "execution_count": 5,
   "id": "8f51a179",
   "metadata": {},
   "outputs": [
    {
     "name": "stdout",
     "output_type": "stream",
     "text": [
      "['cat', 'dog']\n"
     ]
    }
   ],
   "source": [
    "#write a program to filter out words shorter than 4 letters from the list['cat,'dog, 'elephant','tiger'] using filter\n",
    "\n",
    "lst_animal = ['cat', 'dog', 'elephant', 'tiger']\n",
    "word = filter(lambda x: len(x) <= 4, lst_animal)\n",
    "print(list(word))"
   ]
  },
  {
   "cell_type": "code",
   "execution_count": null,
   "id": "66c0b95b",
   "metadata": {},
   "outputs": [],
   "source": []
  }
 ],
 "metadata": {
  "kernelspec": {
   "display_name": "Python 3 (ipykernel)",
   "language": "python",
   "name": "python3"
  },
  "language_info": {
   "codemirror_mode": {
    "name": "ipython",
    "version": 3
   },
   "file_extension": ".py",
   "mimetype": "text/x-python",
   "name": "python",
   "nbconvert_exporter": "python",
   "pygments_lexer": "ipython3",
   "version": "3.9.13"
  }
 },
 "nbformat": 4,
 "nbformat_minor": 5
}
